{
  "nbformat": 4,
  "nbformat_minor": 0,
  "metadata": {
    "colab": {
      "name": "autoclone(break750Gb_Limit)v2.ipynb",
      "provenance": [],
      "include_colab_link": true
    },
    "kernelspec": {
      "name": "python3",
      "display_name": "Python 3"
    }
  },
  "cells": [
    {
      "cell_type": "markdown",
      "metadata": {
        "id": "view-in-github",
        "colab_type": "text"
      },
      "source": [
        "<a href=\"https://colab.research.google.com/github/iErics/autoclone/blob/master/FolderClone%E6%9C%AA%E5%AE%8C%E6%88%90%E7%89%88.ipynb\" target=\"_parent\"><img src=\"https://colab.research.google.com/assets/colab-badge.svg\" alt=\"Open In Colab\"/></a>"
      ]
    },
    {
      "cell_type": "markdown",
      "metadata": {
        "id": "V2w7tWhPhbTB",
        "colab_type": "text"
      },
      "source": [
        "<h3>Modified by Eric Wang</h1>\n",
        "\n"
      ]
    },
    {
      "cell_type": "markdown",
      "metadata": {
        "id": "Cqy3vXXOMI06",
        "colab_type": "text"
      },
      "source": [
        "### <font size=5px color=\"red\">✦ *Google Colab 突破90分钟自动断开:</font>\n",
        "<p><font size=3px > 每60分钟自动运行代码以刷新90分钟断开限制. 打开 developer-settings (在你的浏览器) 快速健 Ctrl+Shift+I 然后按console 输入以下代码 Enter. ( mac 按 Option+Command+I)</p><b>复制以下隐藏代码粉贴在浏览器console！！不要关闭浏览器以免失效</b>"
      ]
    },
    {
      "cell_type": "markdown",
      "metadata": {
        "id": "3Z8cK8h2Avbv",
        "colab_type": "text"
      },
      "source": [
        "<code>function ClickConnect(){\n",
        "console.log(\"Working\"); \n",
        "document.querySelector(\"colab-connect-button\").click() \n",
        "}setInterval(ClickConnect,6000)</code>"
      ]
    },
    {
      "cell_type": "code",
      "metadata": {
        "id": "jtClEMAMLVHw",
        "colab_type": "code",
        "cellView": "form",
        "colab": {}
      },
      "source": [
        "#@markdown <h3>← 输入了代码后运行以防止断开</h>\n",
        "\n",
        "\n",
        "import IPython\n",
        "from google.colab import output\n",
        "\n",
        "display(IPython.display.Javascript('''\n",
        " function ClickConnect(){\n",
        "   btn = document.querySelector(\"colab-connect-button\")\n",
        "   if (btn != null){\n",
        "     console.log(\"Click colab-connect-button\"); \n",
        "     btn.click() \n",
        "     }\n",
        "   \n",
        "   btn = document.getElementById('ok')\n",
        "   if (btn != null){\n",
        "     console.log(\"Click reconnect\"); \n",
        "     btn.click() \n",
        "     }\n",
        "  }\n",
        "  \n",
        "setInterval(ClickConnect,60000)\n",
        "'''))\n",
        "\n",
        "print(\"Done.\")"
      ],
      "execution_count": 0,
      "outputs": []
    },
    {
      "cell_type": "markdown",
      "metadata": {
        "colab_type": "text",
        "id": "nnK31oX-jC5p"
      },
      "source": [
        "### <img src='https://rclone.org/img/rclone-32x32.png' height=\"46\" alt=\"rclone\"/>__FolderClone__\n",
        "<font size=px><b> ✧  谷歌突破 750GB 限制</h6>\n"
      ]
    },
    {
      "cell_type": "code",
      "metadata": {
        "id": "3OtmUa5sj5Uo",
        "colab_type": "code",
        "colab": {
          "base_uri": "https://localhost:8080/",
          "height": 34
        },
        "cellView": "form",
        "outputId": "ecadb370-ddfe-41a2-81d6-49f8f19d93d4"
      },
      "source": [
        "#@markdown <h3>第一步。 安装FolderClone</h3>\n",
        "!pip3 install folderclone\n",
        "from IPython.display import HTML, clear_output\n",
        "clear_output()\n",
        "print(\"Successfully Installed\")"
      ],
      "execution_count": 1,
      "outputs": [
        {
          "output_type": "stream",
          "text": [
            "Successfully Installed\n"
          ],
          "name": "stdout"
        }
      ]
    },
    {
      "cell_type": "code",
      "metadata": {
        "id": "O9F2isxhl9ck",
        "colab_type": "code",
        "colab": {},
        "cellView": "form"
      },
      "source": [
        "#@markdown <h3>第二步。 挂载存有配置文件的谷歌云盘</h3>\n",
        "from google.colab import drive\n",
        "drive.mount('/content/gdrive')"
      ],
      "execution_count": 0,
      "outputs": []
    },
    {
      "cell_type": "code",
      "metadata": {
        "id": "oFGlyQcMAc4w",
        "colab_type": "code",
        "colab": {},
        "cellView": "form"
      },
      "source": [
        "#@markdown <h3>第三步。 开始搬运</h3>\n",
        "FolderPath = \"/content/gdrive/My Drive/FoldeRcloneMW\" #@param {type:\"string\"}\n",
        "source = \"1lkxzYBOK_sSz0j0S3ukBtWIg41YxVFif\" #@param {type:\"string\"}\n",
        "destination = \"1AVDPY6zlVP1_jdKCsPtQO5SPhzADTUTQ\" #@param {type:\"string\"}\n",
        "\n",
        "\n",
        "\n",
        "%cd \"$FolderPath\"\n",
        "print(\"\\n-----我要开动了，初音祈祷中....\\n-----GKD\\n\")\n",
        "!multifolderclone -s \"$source\" -d \"$destination\"\n",
        "print(\"\\n----------复制完成----------\\n\")"
      ],
      "execution_count": 0,
      "outputs": []
    },
    {
      "cell_type": "markdown",
      "metadata": {
        "id": "-Y6UgcQHRS2L",
        "colab_type": "text"
      },
      "source": [
        "### **首次使用请执行一下步骤**\n",
        "\n"
      ]
    },
    {
      "cell_type": "code",
      "metadata": {
        "id": "9cR61xC8DiD4",
        "colab_type": "code",
        "colab": {},
        "cellView": "form"
      },
      "source": [
        "#@markdown <h3>第一步。 安装FolderClone</h3>\n",
        "!pip3 install folderclone\n",
        "from IPython.display import HTML, clear_output\n",
        "clear_output()\n",
        "print(\"Successfully Installed\")"
      ],
      "execution_count": 0,
      "outputs": []
    },
    {
      "cell_type": "code",
      "metadata": {
        "id": "a4YZhWIfxThI",
        "colab_type": "code",
        "colab": {},
        "cellView": "form"
      },
      "source": [
        "#@markdown <h3><b>←</b>第二步。 启动 Drive Api & 下载 credentials.json到本机</h3>\n",
        "#@markdown <b>使用的Drive Api所对应的谷歌账号应在目标盘内拥有管理员身份，目标盘是你想要把文件复制进去的那个团队盘</b>\n",
        "#@markdown <b>下载到 credentials.json 后将其上传至谷歌云盘的某一文件夹下，该文件夹将用来存放配置文件</b>\n",
        "!python3 gen_sa_accounts.py --quick-setup -1\n",
        "\n",
        "from IPython.display import Image, display\n",
        "display(Image(url = \"https://raw.githubusercontent.com/totalleecher/Codemaster/master/Screenshot_2020-03-24%20Python%20Quickstart%20Google%20Drive%20API%20Google%20Developers.png\"))"
      ],
      "execution_count": 0,
      "outputs": []
    },
    {
      "cell_type": "code",
      "metadata": {
        "id": "8iXIEXUIFW_8",
        "colab_type": "code",
        "colab": {
          "base_uri": "https://localhost:8080/",
          "height": 34
        },
        "cellView": "form",
        "outputId": "c412cfe3-f379-4d67-f159-95b42297542e"
      },
      "source": [
        "#@markdown <h3>第三步。 挂载存有配置文件夹的谷歌云盘</h3>\n",
        "from google.colab import drive\n",
        "drive.mount('/content/gdrive')"
      ],
      "execution_count": 31,
      "outputs": [
        {
          "output_type": "stream",
          "text": [
            "Drive already mounted at /content/gdrive; to attempt to forcibly remount, call drive.mount(\"/content/gdrive\", force_remount=True).\n"
          ],
          "name": "stdout"
        }
      ]
    },
    {
      "cell_type": "code",
      "metadata": {
        "id": "giBvV0Kwx3Yz",
        "colab_type": "code",
        "colab": {
          "base_uri": "https://localhost:8080/",
          "height": 170
        },
        "cellView": "form",
        "outputId": "39169c7d-9190-43b8-c5c3-5ddc4792ac3c"
      },
      "source": [
        "#@markdown <h3><b>←</b>第四步。 配置账号（此步骤需要python3.7+的支持，但colab只支持python3.6，故无法完成）\"</h3>\n",
        "FolderPath = \"/content/gdrive/My Drive/FoldeRcloneWS\" #@param {type:\"string\"}\n",
        "%cd \"$FolderPath\"\n",
        "!multimanager interactive"
      ],
      "execution_count": 38,
      "outputs": [
        {
          "output_type": "stream",
          "text": [
            "/content/gdrive/My Drive/FoldeRcloneWS\n",
            "Traceback (most recent call last):\n",
            "  File \"/usr/local/bin/multimanager\", line 8, in <module>\n",
            "    sys.exit(main())\n",
            "  File \"/usr/local/lib/python3.6/dist-packages/folderclonecli/mmparse.py\", line 180, in main\n",
            "    subparsers = parse.add_subparsers(help='Commands',dest='command',required=True)\n",
            "  File \"/usr/lib/python3.6/argparse.py\", line 1716, in add_subparsers\n",
            "    action = parsers_class(option_strings=[], **kwargs)\n",
            "TypeError: __init__() got an unexpected keyword argument 'required'\n"
          ],
          "name": "stdout"
        }
      ]
    }
  ]
}