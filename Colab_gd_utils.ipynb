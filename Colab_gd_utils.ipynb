{
  "nbformat": 4,
  "nbformat_minor": 0,
  "metadata": {
    "colab": {
      "name": "Colab-gd-utils.ipynb",
      "provenance": [],
      "authorship_tag": "ABX9TyPtrJaTbBpqU6v8ngXb0lid",
      "include_colab_link": true
    },
    "kernelspec": {
      "name": "python3",
      "display_name": "Python 3"
    }
  },
  "cells": [
    {
      "cell_type": "markdown",
      "metadata": {
        "id": "view-in-github",
        "colab_type": "text"
      },
      "source": [
        "<a href=\"https://colab.research.google.com/github/iErics/autoclone/blob/master/Colab_gd_utils.ipynb\" target=\"_parent\"><img src=\"https://colab.research.google.com/assets/colab-badge.svg\" alt=\"Open In Colab\"/></a>"
      ]
    },
    {
      "cell_type": "code",
      "metadata": {
        "id": "VoQCd8Mnpp9q",
        "colab_type": "code",
        "colab": {}
      },
      "source": [
        "!curl -sL https://deb.nodesource.com/setup_14.x | sudo -E bash -\n",
        "!sudo apt-get install -y nodejs\n",
        "!git clone https://github.com/iwestlin/gd-utils\n",
        "%cd /content/gd-utils\n",
        "!npm install --unsafe-perm=true --allow-root"
      ],
      "execution_count": null,
      "outputs": []
    },
    {
      "cell_type": "code",
      "metadata": {
        "id": "kogtGAhUwe68",
        "colab_type": "code",
        "colab": {}
      },
      "source": [
        "from google.colab import drive\n",
        "drive.mount('/content/drive')"
      ],
      "execution_count": null,
      "outputs": []
    },
    {
      "cell_type": "code",
      "metadata": {
        "id": "zeI4RCggzsPB",
        "colab_type": "code",
        "colab": {}
      },
      "source": [
        "!rm -rf /content/gd-utils/sa/*\n",
        "!rm -rf /content/gd-utils/config.js\n",
        "!cp -r /content/drive/\"My Drive\"/gd-utils/sa /content/gd-utils"
      ],
      "execution_count": 6,
      "outputs": []
    },
    {
      "cell_type": "code",
      "metadata": {
        "id": "Gsl1es5J0NED",
        "colab_type": "code",
        "colab": {}
      },
      "source": [
        "!cp -r /content/drive/\"My Drive\"/gd-utils/sa /content/gd-utils"
      ],
      "execution_count": null,
      "outputs": []
    },
    {
      "cell_type": "code",
      "metadata": {
        "id": "nxQNiygy0ip5",
        "colab_type": "code",
        "colab": {}
      },
      "source": [
        "!cp /content/drive/\"My Drive\"/gd-utils/config.js /content/gd-utils"
      ],
      "execution_count": null,
      "outputs": []
    },
    {
      "cell_type": "code",
      "metadata": {
        "id": "xMtlQIu51GGT",
        "colab_type": "code",
        "colab": {}
      },
      "source": [
        "!./count -h"
      ],
      "execution_count": null,
      "outputs": []
    },
    {
      "cell_type": "code",
      "metadata": {
        "id": "Ssu8dYJnas9p",
        "colab_type": "code",
        "colab": {}
      },
      "source": [
        "!./copy 197nIrKiPzOy089tadwnzzosDSxmWUTQn 1l9hXKbkS_5qen0i5d1wvkqu7IpkZAMRg -S"
      ],
      "execution_count": null,
      "outputs": []
    },
    {
      "cell_type": "code",
      "metadata": {
        "id": "8i_JRwXbb74g",
        "colab_type": "code",
        "colab": {}
      },
      "source": [
        ""
      ],
      "execution_count": null,
      "outputs": []
    }
  ]
}